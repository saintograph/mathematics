{
 "cells": [
  {
   "cell_type": "markdown",
   "id": "bfc112d0",
   "metadata": {},
   "source": [
    "### Inverse functions\n",
    "\n",
    "Suppose that f is a one-to-one function, with domain $A$ and image set $B$. Then the inverse function, or simply inverse, of $f$, denoted by $f^{-1}$, is the function with domain $B$ whose rules is given by\n",
    "\n",
    "$f^{-1}(y)=x$, where $f(x)=y$\n",
    "\n",
    "The image set of $f^{-1}$ is $A$.\n",
    "\n",
    "---\n",
    "\n",
    "Example:\n",
    "\n",
    "Find the inverse function of the function \n",
    "\n",
    "$$f(x)=2x+1$$\n",
    "\n",
    "The equation $f(x) = y$ gives\n",
    "\n",
    "$$2x+1=y$$\n",
    "\n",
    "$$2x=y-1$$\n",
    "\n",
    "$$x=\\frac{1}{2}(y-1)$$\n",
    "\n",
    "Hence the rule of $f^{-1}$ is\n",
    "\n",
    "$$f^{-1}(y) = \\frac{1}{2}(y-1)$$\n",
    "\n",
    "Usually, change the input variable from $y$ to $x$, as this is the letter normally used for the input variable of a function.\n",
    "\n",
    "That is, it is:\n",
    "\n",
    "$$f^{-1}(x)=\\frac{1}{2}(x-1)$$\n",
    "\n",
    "The domain of $f^{-1}$ is the image set of $f$, which is $\\mathbb{R}$. By the domain convention, you don't need to write down this domain.\n",
    "\n",
    "The domain of $f^{-1}$ is the whole of $\\mathbb{R}$, so the rule above completely specifies $f^{-1}$.\n",
    "\n",
    "---\n",
    "\n",
    "### How do we know a function has an inverse?\n",
    "\n",
    "\n",
    "To do so, plot a graph of $f(x)=2x+1$\n"
   ]
  },
  {
   "cell_type": "code",
   "execution_count": 1,
   "id": "4fb215d5",
   "metadata": {},
   "outputs": [],
   "source": [
    "from sympy.plotting import plot \n",
    "from sympy import *\n",
    "from fractions import Fraction"
   ]
  },
  {
   "cell_type": "code",
   "execution_count": 11,
   "id": "7c1653d9",
   "metadata": {},
   "outputs": [
    {
     "data": {
      "image/png": "[encoded data removed]",
      "text/plain": [
       "<Figure size 640x480 with 1 Axes>"
      ]
     },
     "metadata": {},
     "output_type": "display_data"
    },
    {
     "data": {
      "text/plain": [
       "<sympy.plotting.plot.Plot at 0x7f3e5616d300>"
      ]
     },
     "execution_count": 11,
     "metadata": {},
     "output_type": "execute_result"
    }
   ],
   "source": [
    "x = Symbol('x')\n",
    "y = Symbol('y') \n",
    "plot(2 * x + 1, (x, -10, 10))"
   ]
  },
  {
   "cell_type": "markdown",
   "id": "cbbdb42c",
   "metadata": {},
   "source": [
    "The graph shows $x$ is one-to-one (the line crosses the $y$-axis($f(x)$) exactly once) and therefore has an inverse\n",
    "\n",
    "---\n"
   ]
  },
  {
   "cell_type": "markdown",
   "id": "d5686795",
   "metadata": {},
   "source": [
    "#### Exercise\n",
    "\n",
    "1. $f(x)=3x-4$\n",
    "\n",
    "$$3x-4 = y$$\n",
    "\n",
    "$$3x=y+4$$\n",
    "\n",
    "$$x=\\frac{y+4}{3}$$\n",
    "\n",
    "Convert equation to the rule of $f^{-1}$\n",
    "\n",
    "$$f^{-1}(x)=\\frac{x+4}{3}$$ or $$f^{-1}(x)=\\frac{1}{3}(x+4)$$"
   ]
  },
  {
   "cell_type": "markdown",
   "id": "6a62216c",
   "metadata": {},
   "source": [
    "---\n",
    "\n",
    "2. $f(x)=2-\\frac{1}{2}x$\n",
    "\n",
    "$$2-\\frac{1}{2}x=y$$\n",
    "\n",
    "Subtract 2 from both sides.\n",
    "$$-\\frac{1}{2}=y-2$$\n",
    "\n",
    "$$-\\frac{x}{2}=y-2$$\n",
    "\n",
    "Multiply RHS and LHS with 2 to remove the fraction\n",
    "$$-x=2y-4$$\n",
    "\n",
    "$$x = 2(2-y)$$\n",
    "\n",
    "Convert equation to the rule of $f^{-1}$\n",
    "\n",
    "$$f^{-1}(x)=2(2-x)$$"
   ]
  },
  {
   "cell_type": "markdown",
   "id": "d9ca4fea",
   "metadata": {},
   "source": [
    "---\n",
    "\n",
    "3. $f(x)=5+\\frac{1}{x}$\n",
    "\n",
    "$$5+\\frac{1}{x}=y$$\n",
    "\n",
    "$$\\frac{1}{x}=y-5$$\n",
    "\n",
    "Both sides are multiplied by $x$\n",
    "\n",
    "$$1=x(y-5)$$\n",
    "\n",
    "$1$ is moved to RHS\n",
    "\n",
    "$$x(y-5)=1$$\n",
    "\n",
    "Divide both sides by $(y-5)$\n",
    "\n",
    "$$x=\\frac{1}{y-5}$$\n",
    "\n",
    "Convert equation to the rule of $f^{-1}$\n",
    "\n",
    "$$f^{-1}(x)=\\frac{1}{x-5}$$"
   ]
  },
  {
   "cell_type": "code",
   "execution_count": null,
   "id": "d13423d1",
   "metadata": {},
   "outputs": [],
   "source": []
  },
  {
   "cell_type": "code",
   "execution_count": null,
   "id": "cf388982",
   "metadata": {},
   "outputs": [],
   "source": []
  },
  {
   "cell_type": "code",
   "execution_count": null,
   "id": "293c69c4",
   "metadata": {},
   "outputs": [],
   "source": []
  },
  {
   "cell_type": "code",
   "execution_count": null,
   "id": "ab74edfd",
   "metadata": {},
   "outputs": [],
   "source": []
  },
  {
   "cell_type": "code",
   "execution_count": null,
   "id": "c12d7720",
   "metadata": {},
   "outputs": [],
   "source": []
  },
  {
   "cell_type": "code",
   "execution_count": null,
   "id": "3d2b8277",
   "metadata": {},
   "outputs": [],
   "source": []
  },
  {
   "cell_type": "code",
   "execution_count": null,
   "id": "4ea1f483",
   "metadata": {},
   "outputs": [],
   "source": []
  },
  {
   "cell_type": "code",
   "execution_count": null,
   "id": "f6a15553",
   "metadata": {},
   "outputs": [],
   "source": []
  },
  {
   "cell_type": "code",
   "execution_count": null,
   "id": "b0e9dab9",
   "metadata": {},
   "outputs": [],
   "source": []
  },
  {
   "cell_type": "code",
   "execution_count": null,
   "id": "b4c704b0",
   "metadata": {},
   "outputs": [],
   "source": []
  },
  {
   "cell_type": "code",
   "execution_count": null,
   "id": "95ec5de0",
   "metadata": {},
   "outputs": [],
   "source": []
  }
 ],
 "metadata": {
  "kernelspec": {
   "display_name": "Python 3 (ipykernel)",
   "language": "python",
   "name": "python3"
  },
  "language_info": {
   "codemirror_mode": {
    "name": "ipython",
    "version": 3
   },
   "file_extension": ".py",
   "mimetype": "text/x-python",
   "name": "python",
   "nbconvert_exporter": "python",
   "pygments_lexer": "ipython3",
   "version": "3.10.6"
  }
 },
 "nbformat": 4,
 "nbformat_minor": 5
}
