{
 "cells": [
  {
   "cell_type": "markdown",
   "id": "4e22869b",
   "metadata": {},
   "source": [
    "### Quadratics"
   ]
  },
  {
   "cell_type": "markdown",
   "id": "fc31f277",
   "metadata": {},
   "source": [
    "#### Expressing a quadratic in completed square form\n",
    "\n",
    "Completing the square in a quadratic expression means rearranging it in a particular way.\n",
    "\n",
    "To complete the square in a quadratic, $ax^2+bx+c$ is rearranged into the form $a(x+r)^2+s$, where $a$, $r$ and $s$ are constants.\n",
    "\n",
    "#### Examples:\n",
    "\n",
    "1. $x^2-10x$\n",
    "\n",
    "Halve the coefficient, $b$, to get $r$, then square the halved coefficient to get $s$.\n",
    "\n",
    "$$=(x-5)^2+25$$\n",
    "\n",
    "2. $x^2+8x$\n",
    "\n",
    "Halve the coefficient, $8$, to get $4$, then square the halved coefficient to get $16$\n",
    "\n",
    "$$=(x+4)^2+16$$"
   ]
  },
  {
   "cell_type": "code",
   "execution_count": null,
   "id": "95229c6a",
   "metadata": {},
   "outputs": [],
   "source": []
  },
  {
   "cell_type": "code",
   "execution_count": null,
   "id": "abf39892",
   "metadata": {},
   "outputs": [],
   "source": []
  },
  {
   "cell_type": "code",
   "execution_count": null,
   "id": "c7c32cf8",
   "metadata": {},
   "outputs": [],
   "source": []
  }
 ],
 "metadata": {
  "kernelspec": {
   "display_name": "Python 3 (ipykernel)",
   "language": "python",
   "name": "python3"
  },
  "language_info": {
   "codemirror_mode": {
    "name": "ipython",
    "version": 3
   },
   "file_extension": ".py",
   "mimetype": "text/x-python",
   "name": "python",
   "nbconvert_exporter": "python",
   "pygments_lexer": "ipython3",
   "version": "3.10.6"
  }
 },
 "nbformat": 4,
 "nbformat_minor": 5
}
